{
 "cells": [
  {
   "cell_type": "markdown",
   "metadata": {},
   "source": [
    "В скрипте нужно указать:  \n",
    "* Путь к папке, где лежат скриншоты экрана kik; там должны быть:  \n",
    " * подпапки queue и ready\n",
    " * файл hashtags.csv\n",
    "* Путь к исполняемому файлу Тессеракт\n",
    "\n",
    "\n",
    "Что происходит:  \n",
    "* Скрипт открывает по 30 файлов из папки queue\n",
    "* Преобразует файлы (обрезает изображение и поляризует)\n",
    "* Распознает текст на изображении\n",
    "\n",
    "* Сохраняет преобразованный файл в папке ready\n",
    "* Удаляет файл из папки queue\n",
    "\n",
    "* Пишет в файл hashtags.csv\n",
    " * Хэштэг\n",
    " * Имя группы\n",
    " * Дату записи\n",
    " * Имя файла-источника"
   ]
  },
  {
   "cell_type": "markdown",
   "metadata": {},
   "source": [
    "**Процесс установки:**"
   ]
  },
  {
   "cell_type": "code",
   "execution_count": 1,
   "metadata": {},
   "outputs": [],
   "source": [
    "#Сначала установим библиотеки:\n",
    "#!pip install PIL\n",
    "#!pip install pytesseract\n",
    "#Установить тесеракт и прописать путь к нему в path Windows\n",
    "## Исходник тут: https://github.com/tesseract-ocr/tesseract/wiki/4.0-with-LSTM#400-alpha-for-windows\n",
    "## В \\Tesseract-OCR\\tessdata выложить файл rob.traineddata , обученный распознавать Roboto (шрифт кика)"
   ]
  },
  {
   "cell_type": "markdown",
   "metadata": {},
   "source": [
    "**Имя папки для работы со скриншотами:**"
   ]
  },
  {
   "cell_type": "code",
   "execution_count": 2,
   "metadata": {},
   "outputs": [],
   "source": [
    "env_path = 'C:\\\\HOME\\\\KWPDS\\\\kik_env\\\\screenshots\\\\'"
   ]
  },
  {
   "cell_type": "code",
   "execution_count": 3,
   "metadata": {},
   "outputs": [],
   "source": [
    "from PIL import Image, ImageDraw\n",
    "import pytesseract\n",
    "import datetime\n",
    "import csv\n",
    "import os"
   ]
  },
  {
   "cell_type": "code",
   "execution_count": 4,
   "metadata": {},
   "outputs": [],
   "source": [
    "pytesseract.pytesseract.tesseract_cmd = 'C:\\\\Program Files (x86)\\\\Tesseract-OCR\\\\tesseract.exe'"
   ]
  },
  {
   "cell_type": "code",
   "execution_count": 5,
   "metadata": {},
   "outputs": [],
   "source": [
    "screenshots_queue = os.listdir(path=env_path+'queue')[0:30]\n",
    "on_recognize_queue = []\n",
    "dt = datetime.datetime.utcnow().strftime('%Y-%m-%d %I:%M%p')"
   ]
  },
  {
   "cell_type": "code",
   "execution_count": 6,
   "metadata": {},
   "outputs": [],
   "source": [
    "for shot in screenshots_queue:\n",
    "    #Crop the image\n",
    "    in_file_name = env_path+'queue\\\\'+shot\n",
    "    img = Image.open(in_file_name)\n",
    "    w, h = img.size\n",
    "    img = img.crop((110, 0, w-130, h))\n",
    "    w, h = img.size\n",
    "    \n",
    "    # Set levels\n",
    "    img_draw = ImageDraw.Draw(img)\n",
    "    pix = img.load()\n",
    "    \n",
    "    for i in range(w):\n",
    "        for j in range(h):\n",
    "            a = pix[i, j][0]\n",
    "            b = pix[i, j][1]\n",
    "            c = pix[i, j][2]\n",
    "            S = a + b + c\n",
    "\n",
    "            if S < 625:\n",
    "                a,b,c = map(lambda x: ((x-100)//3)*2, [a, b, c])\n",
    "            else:\n",
    "                a, b, c = 255, 255, 255\n",
    "\n",
    "            img_draw.point((i, j), (a, b, c))\n",
    "    \n",
    "    out_file_name = env_path+'ready\\\\'+shot\n",
    "    img.save(out_file_name, \"PNG\")\n",
    "    on_recognize_queue.append(out_file_name)\n",
    "    \n",
    "    os.remove(in_file_name)\n",
    "    del img_draw"
   ]
  },
  {
   "cell_type": "code",
   "execution_count": 7,
   "metadata": {},
   "outputs": [],
   "source": [
    "text_list = []\n",
    "hashtag_list = []\n",
    "\n",
    "for file_name in on_recognize_queue:\n",
    "    img_from = Image.open(file_name)                  \n",
    "    text = pytesseract.image_to_string(img_from, lang='rob', config ='tessedit_char_whitelist = #')\n",
    "    text_list.append(text)\n",
    "\n",
    "    for t in text_list:\n",
    "        #Cut incorrect data\n",
    "        t = [i for i in t.split('\\n') if len(i) >1]\n",
    "        if 'Groups' == t[4]:\n",
    "            t = t[2:4]+t[5::]\n",
    "        while '#' not in t[-1]:\n",
    "            t = t[:len(t)-1:]\n",
    "\n",
    "        #Convert data to hashtag list\n",
    "        gap = 0\n",
    "        for i in range(1, len(t),2):\n",
    "            if i+gap < len(t):\n",
    "                item = t[i+gap]\n",
    "                while '#' not in item:\n",
    "                    gap += 1\n",
    "                    item = t[i+gap]\n",
    "                hashtag_list.append([t[i+gap-1], item, dt, file_name])            "
   ]
  },
  {
   "cell_type": "code",
   "execution_count": 8,
   "metadata": {},
   "outputs": [],
   "source": [
    "output_file = env_path+'hashtags.csv'\n",
    "\n",
    "with open(output_file, 'a') as csvfile:\n",
    "    spamwriter = csv.writer(csvfile, delimiter=';',quoting=csv.QUOTE_MINIMAL, lineterminator='\\n')\n",
    "    for r in hashtag_list:\n",
    "        spamwriter.writerow(r)\n",
    "\n",
    "csvfile.close()"
   ]
  }
 ],
 "metadata": {
  "kernelspec": {
   "display_name": "Python 3",
   "language": "python",
   "name": "python3"
  },
  "language_info": {
   "codemirror_mode": {
    "name": "ipython",
    "version": 3
   },
   "file_extension": ".py",
   "mimetype": "text/x-python",
   "name": "python",
   "nbconvert_exporter": "python",
   "pygments_lexer": "ipython3",
   "version": "3.6.3"
  }
 },
 "nbformat": 4,
 "nbformat_minor": 2
}
