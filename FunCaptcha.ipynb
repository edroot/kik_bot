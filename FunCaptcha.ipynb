{
 "cells": [
  {
   "cell_type": "code",
   "execution_count": 1,
   "metadata": {},
   "outputs": [],
   "source": [
    "import json\n",
    "import logging\n",
    "import requests\n",
    "import re\n",
    "import time"
   ]
  },
  {
   "cell_type": "code",
   "execution_count": 2,
   "metadata": {},
   "outputs": [],
   "source": [
    "def takeResponseAttr(attr_name, resp_text, quote = '\"'):\n",
    "    attr_name = attr_name+'\\s?'+'.'+'\\s?'+quote\n",
    "    \n",
    "    res= re.findall(attr_name+'[^\"]+'+quote, resp_text)\n",
    "    res = res[0]\n",
    "    res = re.sub(attr_name,'',res)\n",
    "    res = re.sub(quote+'$','',res)\n",
    "    \n",
    "    return res"
   ]
  },
  {
   "cell_type": "code",
   "execution_count": 3,
   "metadata": {},
   "outputs": [],
   "source": [
    "def takeResponseDict(resp_text):\n",
    "    #возвращает только первый словарь.\n",
    "    #будут проблемы, если будет вложенный словарь\n",
    "    start = resp_text.find('{')\n",
    "    end = resp_text.find('}', start)\n",
    "    return eval(resp_text[start: end+1])"
   ]
  },
  {
   "cell_type": "code",
   "execution_count": 4,
   "metadata": {},
   "outputs": [],
   "source": [
    "def takeConvertedDict(source_dict):\n",
    "    _d={}\n",
    "    for k, n in source_dict.items():\n",
    "        n = n.replace('\\\\/','/')\n",
    "        if n.count('|') > 2:\n",
    "            for item in n.split('|'):\n",
    "                if item.count('=') > 0:\n",
    "                    i, j = item.split('=')\n",
    "                else:\n",
    "                    i = k\n",
    "                    j = item\n",
    "                _d[i] = j\n",
    "        else:\n",
    "            _d[k] = n\n",
    "        \n",
    "    return _d"
   ]
  },
  {
   "cell_type": "code",
   "execution_count": 5,
   "metadata": {},
   "outputs": [],
   "source": [
    "formattedStrLambda = lambda item_dict: '&'.join(map(lambda x: '{}={}'.format(x[0],x[1]), item_dict.items()))"
   ]
  },
  {
   "cell_type": "code",
   "execution_count": 6,
   "metadata": {},
   "outputs": [
    {
     "name": "stderr",
     "output_type": "stream",
     "text": [
      "DEBUG:urllib3.connectionpool:Starting new HTTPS connection (1): captcha.kik.com\n",
      "DEBUG:urllib3.connectionpool:https://captcha.kik.com:443 \"GET /?id=3-CAISeFB-ktoCL82eTHfb1e21_IaYfoSgigifgkPlgml_HsDaWUeprIeOpcT0c1mEY6WJvGRUiZ9ufLsRosdV3L3NNvLPXjx81yknkc43M0MA1LTL4rVLQtUt5cxak2bwqiyjfx774cz3TFNWJx9umPOTeEsQ4i1R6ffEWBoQRnJLIBkuLz4jNRrsmHU53iIfXh2cl7DcCHEUy_Ay4xOXurBcNWMNpO-Pp7SG5zPEryoQq2OV1HzvPduxpEZXP0pYcA HTTP/1.1\" 200 None\n",
      "DEBUG:urllib3.connectionpool:Starting new HTTPS connection (1): funcaptcha.com\n",
      "DEBUG:urllib3.connectionpool:https://funcaptcha.com:443 \"GET /fc/api/?onload=callbackCaptchaReady HTTP/1.1\" 200 None\n",
      "DEBUG:urllib3.connectionpool:Starting new HTTPS connection (1): cdn.funcaptcha.com\n",
      "DEBUG:urllib3.connectionpool:https://cdn.funcaptcha.com:443 \"GET /fc/js/ba1e486f2d32eee8fdf97ee89ec06b14/standard/funcaptcha_api.js HTTP/1.1\" 200 None\n",
      "DEBUG:urllib3.connectionpool:https://funcaptcha.com:443 \"GET /fc/gt2/?callback=fcJSONPCallback&bda=W3sia2V5IjoiYXBpX3R5cGUiLCJ2YWx1ZSI6ImpzIn0seyJrZXkiOiJwIiwidmFsdWUiOjF9LHsia2V5IjoiZiIsInZhbHVlIjoiNzY1MWVkMTE5ZmRmZDhlNWQzMTA0NGYzZjk3N2ZkMDIifSx7ImtleSI6ImNzIiwidmFsdWUiOjF9XQ==&public_key=92A09218-4AD3-CC2B-8145-87CD0B851124&site=https://captcha.kik.com&data[kik_id]=3-CAISeFB-ktoCL82eTHfb1e21_IaYfoSgigifgkPlgml_HsDaWUeprIeOpcT0c1mEY6WJvGRUiZ9ufLsRosdV3L3NNvLPXjx81yknkc43M0MA1LTL4rVLQtUt5cxak2bwqiyjfx774cz3TFNWJx9umPOTeEsQ4i1R6ffEWBoQRnJLIBkuLz4jNRrsmHU53iIfXh2cl7DcCHEUy_Ay4xOXurBcNWMNpO-Pp7SG5zPEryoQq2OV1HzvPduxpEZXP0pYcA HTTP/1.1\" 200 None\n"
     ]
    }
   ],
   "source": [
    "logging.basicConfig(level=logging.DEBUG)\n",
    "captcha_link ='https://captcha.kik.com/?id='\n",
    "captcha_id = '3-CAISeFB-ktoCL82eTHfb1e21_IaYfoSgigifgkPlgml_HsDaWUeprIeOpcT0c1mEY6WJvGRUiZ9ufLsRosdV3L3NNvLPXjx81yknkc43M0MA1LTL4rVLQtUt5cxak2bwqiyjfx774cz3TFNWJx9umPOTeEsQ4i1R6ffEWBoQRnJLIBkuLz4jNRrsmHU53iIfXh2cl7DcCHEUy_Ay4xOXurBcNWMNpO-Pp7SG5zPEryoQq2OV1HzvPduxpEZXP0pYcA'\n",
    "\n",
    "ses = requests.session()\n",
    "res = ses.get(captcha_link+captcha_id)\n",
    "\n",
    "ses.headers.update({'user-agent':'Mozilla/5.0 (Windows NT 10.0; Win64; x64) AppleWebKit/537.36 (KHTML, like Gecko) Chrome/62.0.3202.94 Safari/537.36'})\n",
    "ses.headers.update({'referer': captcha_link+captcha_id, 'Content-Type': 'application/x-www-form-urlencoded; charset=UTF-8'\\\n",
    "                    ,'authority':'funcaptcha.com'})\n",
    "\n",
    "next1 ='https://funcaptcha.com/fc/api/?onload=callbackCaptchaReady'\n",
    "res1 = ses.get(next1)\n",
    "#get next link\n",
    "next2 = takeResponseAttr('t.src',res1.text)\n",
    "res2 = ses.get(next2)\n",
    "#get next link\n",
    "token_dict = {'bda':'W3sia2V5IjoiYXBpX3R5cGUiLCJ2YWx1ZSI6ImpzIn0seyJrZXkiOiJwIiwidmFsdWUiOjF9L'\\\n",
    "                       'Hsia2V5IjoiZiIsInZhbHVlIjoiNzY1MWVkMTE5ZmRmZDhlNWQzMTA0NGYzZjk3N2ZkMDIifSx7Im'\\\n",
    "                       'tleSI6ImNzIiwidmFsdWUiOjF9XQ=='\\\n",
    "                       ,'public_key':'92A09218-4AD3-CC2B-8145-87CD0B851124'\\\n",
    "                       ,'site':'https://captcha.kik.com'\\\n",
    "                       ,'data[kik_id]':captcha_id}\n",
    "            \n",
    "next3 =  takeResponseAttr('var S7e', res2.text)\\\n",
    "        +takeResponseAttr('var Z8e', res2.text)\\\n",
    "        +'&'+formattedStrLambda(takeConvertedDict(token_dict))\n",
    "        \n",
    "res3 = ses.get(next3)\n",
    "#токен получен успешно."
   ]
  },
  {
   "cell_type": "code",
   "execution_count": 7,
   "metadata": {},
   "outputs": [],
   "source": [
    "auth_json = takeConvertedDict(takeResponseDict(res3.text))\n",
    "auth_json['ps'] = captcha_id\n",
    "\n",
    "next4 = 'https://funcaptcha.com/fc/gc/?'\\\n",
    "        +formattedStrLambda(takeConvertedDict(auth_json))\n",
    "\n",
    "#res4 = ses.get(next4, data = takeConvertedDict(auth_json))"
   ]
  },
  {
   "cell_type": "code",
   "execution_count": 8,
   "metadata": {},
   "outputs": [
    {
     "name": "stderr",
     "output_type": "stream",
     "text": [
      "DEBUG:urllib3.connectionpool:https://funcaptcha.com:443 \"POST /fc/a/ HTTP/1.1\" 200 None\n"
     ]
    }
   ],
   "source": [
    "ses.headers.update({'referer': next4})\n",
    "\n",
    "form_data = {'sid': auth_json.get('r')\n",
    "             ,'session_token':auth_json.get('token')\n",
    "             ,'render_type':'canvas'\n",
    "             ,'category':'Site+URL'\n",
    "             ,'action':captcha_link+captcha_id\n",
    "             ,'analytics_tier':auth_json.get('at')\n",
    "            }\n",
    "\n",
    "next6 = 'https://funcaptcha.com/fc/a/'\n",
    "res6 = ses.post(next6, data = takeConvertedDict(form_data))"
   ]
  },
  {
   "cell_type": "code",
   "execution_count": 9,
   "metadata": {},
   "outputs": [
    {
     "name": "stderr",
     "output_type": "stream",
     "text": [
      "DEBUG:urllib3.connectionpool:https://funcaptcha.com:443 \"POST /fc/gfct/ HTTP/1.1\" 200 None\n"
     ]
    }
   ],
   "source": [
    "gc_data = {'sid': auth_json.get('r')\n",
    "           ,'token':auth_json.get('token')\n",
    "           , 'lang': 'ru'\n",
    "           ,'render_type':'canvas'\n",
    "           ,'analytics_tier':auth_json.get('at')\n",
    "           ,'data[ps]': captcha_id\n",
    "           ,'data[status]':'init'\n",
    "            }\n",
    "\n",
    "\n",
    "next7 = 'https://funcaptcha.com/fc/gfct/'\n",
    "res7 = ses.post(next7, data = takeConvertedDict(gc_data))\n",
    "\n",
    "auth_json['game_token'] = takeResponseAttr('\"challengeID\"', res7.text)"
   ]
  },
  {
   "cell_type": "code",
   "execution_count": 10,
   "metadata": {},
   "outputs": [
    {
     "data": {
      "text/plain": [
       "\"\\ngame_data = {'sid': auth_json.get('r')\\n            ,'session_token':auth_json.get('token')\\n            ,'game_token':auth_json.get('game_token')}\\n\\nnext8 = 'https://funcaptcha.com/fc/ekey/'\\nres8 = ses.post(next8, data=game_data)\\nprint(res8.text)\\n\""
      ]
     },
     "execution_count": 10,
     "metadata": {},
     "output_type": "execute_result"
    }
   ],
   "source": [
    "'''\n",
    "game_data = {'sid': auth_json.get('r')\n",
    "            ,'session_token':auth_json.get('token')\n",
    "            ,'game_token':auth_json.get('game_token')}\n",
    "\n",
    "next8 = 'https://funcaptcha.com/fc/ekey/'\n",
    "res8 = ses.post(next8, data=game_data)\n",
    "print(res8.text)\n",
    "'''"
   ]
  },
  {
   "cell_type": "code",
   "execution_count": 11,
   "metadata": {},
   "outputs": [
    {
     "name": "stderr",
     "output_type": "stream",
     "text": [
      "DEBUG:urllib3.connectionpool:https://funcaptcha.com:443 \"GET /fc/api/nojs/?pkey=92A09218-4AD3-CC2B-8145-87CD0B851124&litejs=1&fb_type=2&session=6605a394d1bc4e228.62741596&r=eu-west-1&lang=ru&ps=3-CAISeFB-ktoCL82eTHfb1e21_IaYfoSgigifgkPlgml_HsDaWUeprIeOpcT0c1mEY6WJvGRUiZ9ufLsRosdV3L3NNvLPXjx81yknkc43M0MA1LTL4rVLQtUt5cxak2bwqiyjfx774cz3TFNWJx9umPOTeEsQ4i1R6ffEWBoQRnJLIBkuLz4jNRrsmHU53iIfXh2cl7DcCHEUy_Ay4xOXurBcNWMNpO-Pp7SG5zPEryoQq2OV1HzvPduxpEZXP0pYcA HTTP/1.1\" 200 None\n",
      "DEBUG:urllib3.connectionpool:https://funcaptcha.com:443 \"POST /fc/api/nojs/?pkey=92A09218-4AD3-CC2B-8145-87CD0B851124&litejs=1&fb_type=2&session=6605a394d1bc4e228.62741596&r=eu-west-1&lang=ru&ps=3-CAISeFB-ktoCL82eTHfb1e21_IaYfoSgigifgkPlgml_HsDaWUeprIeOpcT0c1mEY6WJvGRUiZ9ufLsRosdV3L3NNvLPXjx81yknkc43M0MA1LTL4rVLQtUt5cxak2bwqiyjfx774cz3TFNWJx9umPOTeEsQ4i1R6ffEWBoQRnJLIBkuLz4jNRrsmHU53iIfXh2cl7DcCHEUy_Ay4xOXurBcNWMNpO-Pp7SG5zPEryoQq2OV1HzvPduxpEZXP0pYcA HTTP/1.1\" 200 None\n"
     ]
    }
   ],
   "source": [
    "game_params = {'pkey':token_dict.get('public_key')\n",
    "              ,'litejs':'1'\n",
    "              ,'fb_type':'2'\n",
    "              ,'session':auth_json.get('token')\n",
    "              ,'r':auth_json.get('r')\n",
    "              ,'lang': 'ru'\n",
    "              ,'ps':auth_json.get('ps')\n",
    "             }\n",
    "\n",
    "ses.headers.clear()\n",
    "\n",
    "ses.headers.update({'accept':'text/html,application/xhtml+xml,application/xml;q=0.9,image/webp,image/apng,*/*;q=0.8'\\\n",
    "                    ,'accept-encoding':'gzip, deflate, br'\\\n",
    "                    ,'accept-language':'ru-RU,ru;q=0.9,en-US;q=0.8,en;q=0.7'\\\n",
    "                    ,'content-type':'application/x-www-form-urlencoded'\\\n",
    "                    ,'referer':captcha_link+captcha_id\\\n",
    "                    ,'upgrade-insecure-requests':'1'\\\n",
    "                    ,'user-agent':'Mozilla/5.0 (Windows NT 10.0; Win64; x64) AppleWebKit/537.36 (KHTML, like Gecko) Chrome/62.0.3202.94 Safari/537.36'\n",
    "                   })\n",
    "\n",
    "\n",
    "next9 = 'https://funcaptcha.com/fc/api/nojs/?'+formattedStrLambda(game_params)\n",
    "res9 = ses.get(next9)\n",
    "\n",
    "time.sleep(1)\n",
    "game_data2 = {'fc-game[session_token]':takeResponseAttr('_session_token', res9.text)\n",
    "              ,'fc-game[data]': takeResponseAttr('fc-game\\[data\\]\" value', res9.text)\n",
    "             }\n",
    "\n",
    "ses.headers.update({'referer': next9\\\n",
    "                    ,'origin':'https//funcaptcha.com'\\\n",
    "                    ,'cache-control':'max-age=0'\\\n",
    "                    ,'content-Type': 'text/html; charset=UTF-8'})\n",
    "\n",
    "time.sleep(1)\n",
    "res10 = ses.post(next9, data = game_data2)\n",
    "\n",
    "#next11 = 'https://funcaptcha.com/fc/gimg/d/'+\n",
    "#    5825a391e6c343157.06998379/g/1155a391e6c331b13.28870210/s/2555a391e6c12c985.99884630/sid/eu-west-1/1.png\n",
    "#res11 = ses.get(captcha_link+captcha_id)"
   ]
  },
  {
   "cell_type": "code",
   "execution_count": 12,
   "metadata": {},
   "outputs": [
    {
     "name": "stdout",
     "output_type": "stream",
     "text": [
      "6815a394d1cae29f4.14873587\n",
      "6605a394d1bc4e228.62741596\n",
      "825a394d1c5fc769.47718737\n"
     ]
    }
   ],
   "source": [
    "print(game_data2.get('fc-game[session_token]'))\n",
    "print(auth_json.get('token'))\n",
    "print(auth_json.get('game_token'))"
   ]
  },
  {
   "cell_type": "code",
   "execution_count": 13,
   "metadata": {},
   "outputs": [
    {
     "data": {
      "text/plain": [
       "'<!DOCTYPE html>\\n<html dir=\"ltr\">\\n<head>\\n\\t<meta content=\"text/html; charset=utf-8\" http-equiv=\"content-type\">\\n\\t<meta content=\"IE=edge\" http-equiv=\"X-UA-Compatible\"><script type=\"text/javascript\">window.NREUM||(NREUM={}),__nr_require=function(e,t,n){function r(n){if(!t[n]){var o=t[n]={exports:{}};e[n][0].call(o.exports,function(t){var o=e[n][1][t];return r(o||t)},o,o.exports)}return t[n].exports}if(\"function\"==typeof __nr_require)return __nr_require;for(var o=0;o<n.length;o++)r(n[o]);return r}({1:[function(e,t,n){function r(){}function o(e,t,n){return function(){return i(e,[f.now()].concat(u(arguments)),t?null:this,n),t?void 0:this}}var i=e(\"handle\"),a=e(2),u=e(3),c=e(\"ee\").get(\"tracer\"),f=e(\"loader\"),s=NREUM;\"undefined\"==typeof window.newrelic&&(newrelic=s);var p=[\"setPageViewName\",\"setCustomAttribute\",\"setErrorHandler\",\"finished\",\"addToTrace\",\"inlineHit\",\"addRelease\"],d=\"api-\",l=d+\"ixn-\";a(p,function(e,t){s[t]=o(d+t,!0,\"api\")}),s.addPageAction=o(d+\"addPageAction\",!0),s.setCurrentRouteName=o(d+\"routeName\",!0),t.exports=newrelic,s.interaction=function(){return(new r).get()};var m=r.prototype={createTracer:function(e,t){var n={},r=this,o=\"function\"==typeof t;return i(l+\"tracer\",[f.now(),e,n],r),function(){if(c.emit((o?\"\":\"no-\")+\"fn-start\",[f.now(),r,o],n),o)try{return t.apply(this,arguments)}catch(e){throw c.emit(\"fn-err\",[arguments,this,e],n),e}finally{c.emit(\"fn-end\",[f.now()],n)}}}};a(\"setName,setAttribute,save,ignore,onEnd,getContext,end,get\".split(\",\"),function(e,t){m[t]=o(l+t)}),newrelic.noticeError=function(e){\"string\"==typeof e&&(e=new Error(e)),i(\"err\",[e,f.now()])}},{}],2:[function(e,t,n){function r(e,t){var n=[],r=\"\",i=0;for(r in e)o.call(e,r)&&(n[i]=t(r,e[r]),i+=1);return n}var o=Object.prototype.hasOwnProperty;t.exports=r},{}],3:[function(e,t,n){function r(e,t,n){t||(t=0),\"undefined\"==typeof n&&(n=e?e.length:0);for(var r=-1,o=n-t||0,i=Array(o<0?0:o);++r<o;)i[r]=e[t+r];return i}t.exports=r},{}],4:[function(e,t,n){t.exports={exists:\"undefined\"!=typeof window.performance&&window.performance.timing&&\"undefined\"!=typeof window.performance.timing.navigationStart}},{}],ee:[function(e,t,n){function r(){}function o(e){function t(e){return e&&e instanceof r?e:e?c(e,u,i):i()}function n(n,r,o,i){if(!d.aborted||i){e&&e(n,r,o);for(var a=t(o),u=m(n),c=u.length,f=0;f<c;f++)u[f].apply(a,r);var p=s[y[n]];return p&&p.push([b,n,r,a]),a}}function l(e,t){v[e]=m(e).concat(t)}function m(e){return v[e]||[]}function w(e){return p[e]=p[e]||o(n)}function g(e,t){f(e,function(e,n){t=t||\"feature\",y[n]=t,t in s||(s[t]=[])})}var v={},y={},b={on:l,emit:n,get:w,listeners:m,context:t,buffer:g,abort:a,aborted:!1};return b}function i(){return new r}function a(){(s.api||s.feature)&&(d.aborted=!0,s=d.backlog={})}var u=\"nr@context\",c=e(\"gos\"),f=e(2),s={},p={},d=t.exports=o();d.backlog=s},{}],gos:[function(e,t,n){function r(e,t,n){if(o.call(e,t))return e[t];var r=n();if(Object.defineProperty&&Object.keys)try{return Object.defineProperty(e,t,{value:r,writable:!0,enumerable:!1}),r}catch(i){}return e[t]=r,r}var o=Object.prototype.hasOwnProperty;t.exports=r},{}],handle:[function(e,t,n){function r(e,t,n,r){o.buffer([e],r),o.emit(e,t,n)}var o=e(\"ee\").get(\"handle\");t.exports=r,r.ee=o},{}],id:[function(e,t,n){function r(e){var t=typeof e;return!e||\"object\"!==t&&\"function\"!==t?-1:e===window?0:a(e,i,function(){return o++})}var o=1,i=\"nr@id\",a=e(\"gos\");t.exports=r},{}],loader:[function(e,t,n){function r(){if(!x++){var e=h.info=NREUM.info,t=d.getElementsByTagName(\"script\")[0];if(setTimeout(s.abort,3e4),!(e&&e.licenseKey&&e.applicationID&&t))return s.abort();f(y,function(t,n){e[t]||(e[t]=n)}),c(\"mark\",[\"onload\",a()+h.offset],null,\"api\");var n=d.createElement(\"script\");n.src=\"https://\"+e.agent,t.parentNode.insertBefore(n,t)}}function o(){\"complete\"===d.readyState&&i()}function i(){c(\"mark\",[\"domContent\",a()+h.offset],null,\"api\")}function a(){return E.exists&&performance.now?Math.round(performance.now()):(u=Math.max((new Date).getTime(),u))-h.offset}var u=(new Date).getTime(),c=e(\"handle\"),f=e(2),s=e(\"ee\"),p=window,d=p.document,l=\"addEventListener\",m=\"attachEvent\",w=p.XMLHttpRequest,g=w&&w.prototype;NREUM.o={ST:setTimeout,SI:p.setImmediate,CT:clearTimeout,XHR:w,REQ:p.Request,EV:p.Event,PR:p.Promise,MO:p.MutationObserver};var v=\"\"+location,y={beacon:\"bam.nr-data.net\",errorBeacon:\"bam.nr-data.net\",agent:\"js-agent.newrelic.com/nr-1071.min.js\"},b=w&&g&&g[l]&&!/CriOS/.test(navigator.userAgent),h=t.exports={offset:u,now:a,origin:v,features:{},xhrWrappable:b};e(1),d[l]?(d[l](\"DOMContentLoaded\",i,!1),p[l](\"load\",r,!1)):(d[m](\"onreadystatechange\",o),p[m](\"onload\",r)),c(\"mark\",[\"firstbyte\",u],null,\"api\");var x=0,E=e(4)},{}]},{},[\"loader\"]);</script>\\n\\t<title>FunCaptcha</title>\\n\\t\\t\\t\\t<link rel=\"stylesheet\" href=\"https://cdn.funcaptcha.com/fc/gc/css/fc-nojs-styles-5.css\" type=\"text/css\">\\n\\t\\t\\t<!--[if lt IE 9]>\\n\\t\\t\\t<link rel=\"stylesheet\" href=\"https://cdn.funcaptcha.com/fc/gc/css/fc-nojs-ie-styles-2.css\" />\\n\\t\\t\\t<![endif]-->\\n\\t\\t\\t\\t<script type=\"text/javascript\" src=\"https://cdn.funcaptcha.com/fc/js/fc-litejs_1.js\"></script>\\n\\t\\t\\t\\t<style> @font-face { font-family: \\'icomoon\\'; src:url(\\'https://cdn.funcaptcha.com/fc/gc/css/fonts2/icomoon.eot?fqkr7d\\'); src:url(\\'https://cdn.funcaptcha.com/fc/gc/css/fonts2/icomoon.eot?#iefixfqkr7d\\') format(\\'embedded-opentype\\'), url(\\'https://cdn.funcaptcha.com/fc/gc/css/fonts2/icomoon.woff?fqkr7d\\') format(\\'woff\\'), url(\\'https://cdn.funcaptcha.com/fc/gc/css/fonts2/icomoon.ttf?fqkr7d\\') format(\\'truetype\\'), url(\\'https://cdn.funcaptcha.com/fc/gc/css/fonts2/icomoon.svg?fqkr7d#icomoon\\') format(\\'svg\\'); font-weight: normal; font-style: normal; } </style>\\n\\t</head>\\n<body>\\n<script>\\n\\tvar _session_token = \"2355a394d1f669b11.89407507\";\\n\\tvar _sid = \"eu-west-1\";\\n\\tvar _analytics_tier = \"40\";\\n\\n\\tvar submitted = false;\\n\\tfunction submitForm(form_id) {\\n\\t\\tif (!submitted) {\\n\\t\\t\\tsubmitted = true;\\n\\t\\t\\tvar children = document.getElementById(\"fc-nojs-form\").getElementsByTagName(\"form\");\\n\\t\\t\\tfor (i = 0; i < children.length; ++i) {\\n\\t\\t\\t\\tvar e = children[i];\\n\\t\\t\\t\\tif (e.id.replace(\"fcimgform\", \"\") == form_id) {\\n\\t\\t\\t\\t\\tvar child_spans = e.getElementsByTagName(\"span\");\\n\\t\\t\\t\\t\\tfor (j = 0; j < child_spans.length; ++j) {\\n\\t\\t\\t\\t\\t\\tvar span_e = child_spans[j];\\n\\t\\t\\t\\t\\t\\tif (span_e.className == \"loader\") {\\n\\t\\t\\t\\t\\t\\t\\tspan_e.style.backgroundImage = \"url(https://cdn.funcaptcha.com/fc/gc/images/hourglass.png)\";\\n\\t\\t\\t\\t\\t\\t\\tspan_e.style.display = \"block\";\\n\\t\\t\\t\\t\\t\\t}\\n\\t\\t\\t\\t\\t}\\n\\t\\t\\t\\t\\te.style.position = \"absolute\";\\n\\t\\t\\t\\t\\te.style.left = \"107px\";\\n\\t\\t\\t\\t\\te.style.top = \"174px\";\\n\\t\\t\\t\\t} else {\\n\\t\\t\\t\\t\\te.style.display = \"none\";\\n\\t\\t\\t\\t\\te.style.opacity = \"0\";\\n\\t\\t\\t\\t}\\n\\t\\t\\t}\\n\\t\\t\\tvar instruction = document.getElementById(\"instruction-text\");\\n\\t\\t\\tinstruction.style.display = \"none\";\\n\\t\\t\\treturn true;\\n\\t\\t} else {\\n\\t\\t\\treturn false;\\n\\t\\t}\\n\\t}\\n</script>\\n<style>\\n\\t\\t.intro-txt {\\n\\t\\t\\tmargin: 10px !important;\\n\\t\\t}\\n\\t\\n\\t.infoCtn {\\n\\t\\tposition: absolute;\\n\\t\\tbottom: -5px;\\n\\t}\\n\\n</style>\\n<div class=\"fc-nojs\" id=\"fc-nojs-form\">\\n\\t\\t\\t\\t<div class=\"audioCtn\">\\n\\t\\t\\t\\t<p class=\"intro-txt\">Подтвердите, что вы не спамер, сыграв в небольшую игру!</p>\\n\\t\\t\\t\\t<form method=\"post\">\\n\\t\\t\\t\\t\\t<input type=\"hidden\" name=\"fc-game[session_token]\" value=\"2355a394d1f669b11.89407507\"/>\\n\\t\\t\\t\\t\\t<input type=\"hidden\" name=\"fc-game[data]\" value=\"EQDlAyBNOVp37T/e+ERKvUYS7MQTmhcmAdnvzDkgCLBJPlzcY86BiU3ppWNEbEc2EJUb0ANnq8V9IErmpjCU68oFjeenbYwPCtDOob3IgJmzzrZGGmHy7U8cpnD+1XXCASm6zU3ClRNa24Risf5NgJVdFzkVxrc0+cboQ+AGAjj4BWOK0Rbxhus1kcMgz1tb45qualKWLZLEW3S9D3XJ/cjv0TeiK5X1euDA0FSari9D2d1TdTn3OOzHaa3iNyFgjxMfm3G/LHJRmY0P3FB/S/B7XSgJgCaNUGArLuzJCA6eYhho6yqFhtv1zdTCX6ByOHH8GA==\"/>\\n\\t\\t\\t\\t\\t<input type=\"submit\" class=\"fancy_btn\" value=\"Подтвердить\" tabindex=\"5\"></input>\\n\\t\\t\\t\\t</form>\\n\\t\\t\\t</div>\\n\\t\\t\\t\\t\\t<script>\\n\\t\\t\\tif (window.postMessage) {\\n\\t\\t\\t\\tparent.postMessage(\\'finished_loading_game\\', \\'*\\');\\n\\t\\t\\t}\\n\\t\\t</script>\\n\\t\\t\\t<div class=\"infoCtn\">\\n\\t\\t\\t</div>\\n\\t\\t\\t<script>\\n\\t\\t\\t;(function() {\\n\\t\\t\\t\\tvar brokenLoad = window.setTimeout( function() {\\n\\t\\t\\t\\t\\trefreshImages();\\n\\t\\t\\t\\t}, 20000 );\\n\\t\\t\\t\\tvar loadedCount = 0;\\n\\t\\t\\t\\tvar bLazy = new Blazy({\\n\\t\\t\\t\\t\\tsuccess: function(ele){\\n\\t\\t\\t\\t\\t\\tvar element = ele; //we do this to fix a firefox bug.\\n\\t\\t\\t\\t\\t\\tloadedCount++;\\n\\t\\t\\t\\t\\t\\tif (loadedCount == 1) {\\n\\t\\t\\t\\t\\t\\t\\twindow.clearTimeout( brokenLoad );\\n\\t\\t\\t\\t\\t\\t\\t\\t\\t\\t\\t\\t\\t\\t\\t\\t\\tif (window.postMessage) {\\n\\t\\t\\t\\t\\t\\t\\t\\t\\t\\t\\tparent.postMessage(\\'finished_loading_game\\', \\'*\\');\\n\\t\\t\\t\\t\\t\\t\\t\\t\\t\\t}\\n\\t\\t\\t\\t\\t\\t\\t\\t\\t\\t\\t\\t\\t\\t\\t}\\n\\t\\t\\t\\t\\t}\\n\\t\\t\\t\\t\\t, error: function(ele, msg){\\n\\t\\t\\t\\t\\t\\trefreshImages();\\n\\t\\t\\t\\t\\t}\\n\\t\\t\\t\\t});\\n\\t\\t\\t\\tfunction refreshImages() {\\n\\t\\t\\t\\t\\tbLazy.revalidate();\\n\\t\\t\\t\\t}\\n\\t\\t\\t})();\\n\\t\\t</script>\\n\\t\\t</div>\\n<script type=\"text/javascript\">window.NREUM||(NREUM={});NREUM.info={\"beacon\":\"bam.nr-data.net\",\"licenseKey\":\"d24290f34a\",\"applicationID\":\"16016765\",\"transactionName\":\"YVQENktTWEIDWkwKDlgeMxBQHVBSTVhICk5YXgwRFltYVQdBFhMJRg==\",\"queueTime\":0,\"applicationTime\":632,\"atts\":\"TRMHQANJS0w=\",\"errorBeacon\":\"bam.nr-data.net\",\"agent\":\"\"}</script></body>\\n</html>\\n'"
      ]
     },
     "execution_count": 13,
     "metadata": {},
     "output_type": "execute_result"
    }
   ],
   "source": [
    "res10.text"
   ]
  }
 ],
 "metadata": {
  "kernelspec": {
   "display_name": "Python 3",
   "language": "python",
   "name": "python3"
  },
  "language_info": {
   "codemirror_mode": {
    "name": "ipython",
    "version": 3
   },
   "file_extension": ".py",
   "mimetype": "text/x-python",
   "name": "python",
   "nbconvert_exporter": "python",
   "pygments_lexer": "ipython3",
   "version": "3.6.3"
  }
 },
 "nbformat": 4,
 "nbformat_minor": 2
}
