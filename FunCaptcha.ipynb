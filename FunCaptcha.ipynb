{
 "cells": [
  {
   "cell_type": "code",
   "execution_count": 1,
   "metadata": {},
   "outputs": [],
   "source": [
    "import json\n",
    "import logging\n",
    "import requests"
   ]
  },
  {
   "cell_type": "code",
   "execution_count": 2,
   "metadata": {},
   "outputs": [],
   "source": [
    "def takeResponseAttr(attr_name, resp_text, quote = '\"'):\n",
    "    attr_name = attr_name+'='+quote\n",
    "    start = resp_text.find(attr_name)+len(attr_name)\n",
    "    end = resp_text.find(quote, start)\n",
    "    return resp_text[start: end]"
   ]
  },
  {
   "cell_type": "code",
   "execution_count": 3,
   "metadata": {},
   "outputs": [],
   "source": [
    "def takeResponseDict(resp_text):\n",
    "    #возвращает только первый словарь.\n",
    "    #будут проблемы, если будет вложенный словарь\n",
    "    start = resp_text.find('{')\n",
    "    end = resp_text.find('}', start)\n",
    "    return eval(resp_text[start: end+1])"
   ]
  },
  {
   "cell_type": "code",
   "execution_count": 4,
   "metadata": {},
   "outputs": [],
   "source": [
    "def takeConvertedDict(source_dict):\n",
    "    _d={}\n",
    "    for k, n in source_dict.items():\n",
    "        n = n.replace('\\\\/','/')\n",
    "        if n.count('|') > 2:\n",
    "            for item in n.split('|'):\n",
    "                if item.count('=') > 0:\n",
    "                    i, j = item.split('=')\n",
    "                else:\n",
    "                    i = k\n",
    "                    j = item\n",
    "                _d[i] = j\n",
    "        else:\n",
    "            _d[k] = n\n",
    "        \n",
    "    return _d"
   ]
  },
  {
   "cell_type": "code",
   "execution_count": 5,
   "metadata": {},
   "outputs": [],
   "source": [
    "formattedStrLambda = lambda item_dict: '&'.join(map(lambda x: '{}={}'.format(x[0],x[1]), item_dict.items()))"
   ]
  },
  {
   "cell_type": "code",
   "execution_count": 6,
   "metadata": {},
   "outputs": [
    {
     "name": "stderr",
     "output_type": "stream",
     "text": [
      "DEBUG:urllib3.connectionpool:Starting new HTTPS connection (1): captcha.kik.com\n",
      "DEBUG:urllib3.connectionpool:https://captcha.kik.com:443 \"GET /?id=3-CAISeFB-ktoCL82eTHfb1e21_IaYfoSgigifgkPlgml_HsDaWUeprIeOpcT0c1mEY6WJvGRUiZ9ufLsRosdV3L3NNvLPXjx81yknkc43M0MA1LTL4rVLQtUt5cxak2bwqiyjfx774cz3TFNWJx9umPOTeEsQ4i1R6ffEWBoQRnJLIBkuLz4jNRrsmHU53iIfXh2cl7DcCHEUy_Ay4xOXurBcNWMNpO-Pp7SG5zPEryoQq2OV1HzvPduxpEZXP0pYcA HTTP/1.1\" 200 None\n",
      "DEBUG:urllib3.connectionpool:Starting new HTTPS connection (1): funcaptcha.com\n",
      "DEBUG:urllib3.connectionpool:https://funcaptcha.com:443 \"GET /fc/api/?onload=callbackCaptchaReady HTTP/1.1\" 200 None\n",
      "DEBUG:urllib3.connectionpool:Starting new HTTPS connection (1): cdn.funcaptcha.com\n",
      "DEBUG:urllib3.connectionpool:https://cdn.funcaptcha.com:443 \"GET /fc/js/ba1e486f2d32eee8fdf97ee89ec06b14/standard/funcaptcha_api.js HTTP/1.1\" 200 None\n",
      "DEBUG:urllib3.connectionpool:https://funcaptcha.com:443 \"GET /fc/gt2/?callback=fcJSONPCallback&bda=W3sia2V5IjoiYXBpX3R5cGUiLCJ2YWx1ZSI6ImpzIn0seyJrZXkiOiJwIiwidmFsdWUiOjF9LHsia2V5IjoiZiIsInZhbHVlIjoiNzY1MWVkMTE5ZmRmZDhlNWQzMTA0NGYzZjk3N2ZkMDIifSx7ImtleSI6ImNzIiwidmFsdWUiOjF9XQ==&public_key=92A09218-4AD3-CC2B-8145-87CD0B851124&site=https://captcha.kik.com&data[kik_id]=3-CAISeFB-ktoCL82eTHfb1e21_IaYfoSgigifgkPlgml_HsDaWUeprIeOpcT0c1mEY6WJvGRUiZ9ufLsRosdV3L3NNvLPXjx81yknkc43M0MA1LTL4rVLQtUt5cxak2bwqiyjfx774cz3TFNWJx9umPOTeEsQ4i1R6ffEWBoQRnJLIBkuLz4jNRrsmHU53iIfXh2cl7DcCHEUy_Ay4xOXurBcNWMNpO-Pp7SG5zPEryoQq2OV1HzvPduxpEZXP0pYcA HTTP/1.1\" 200 None\n"
     ]
    }
   ],
   "source": [
    "logging.basicConfig(level=logging.DEBUG)\n",
    "captcha_link ='https://captcha.kik.com/?id='\n",
    "captcha_id = '3-CAISeFB-ktoCL82eTHfb1e21_IaYfoSgigifgkPlgml_HsDaWUeprIeOpcT0c1mEY6WJvGRUiZ9ufLsRosdV3L3NNvLPXjx81yknkc43M0MA1LTL4rVLQtUt5cxak2bwqiyjfx774cz3TFNWJx9umPOTeEsQ4i1R6ffEWBoQRnJLIBkuLz4jNRrsmHU53iIfXh2cl7DcCHEUy_Ay4xOXurBcNWMNpO-Pp7SG5zPEryoQq2OV1HzvPduxpEZXP0pYcA'\n",
    "\n",
    "ses = requests.session()\n",
    "res = ses.get(captcha_link+captcha_id)\n",
    "\n",
    "ses.headers.update({'user-agent':'Mozilla/5.0 (Windows NT 10.0; Win64; x64) AppleWebKit/537.36 (KHTML, like Gecko) Chrome/62.0.3202.94 Safari/537.36'})\n",
    "ses.headers.update({'referer': captcha_link+captcha_id, 'Content-Type': 'application/x-www-form-urlencoded; charset=UTF-8'\\\n",
    "                   ,'authority':'funcaptcha.com'})\n",
    "\n",
    "next1 ='https://funcaptcha.com/fc/api/?onload=callbackCaptchaReady'\n",
    "res1 = ses.get(next1)\n",
    "#get next link\n",
    "next2 = takeResponseAttr('t.src',res1.text)\n",
    "res2 = ses.get(next2)\n",
    "#get next link\n",
    "token_dict = {'bda':'W3sia2V5IjoiYXBpX3R5cGUiLCJ2YWx1ZSI6ImpzIn0seyJrZXkiOiJwIiwidmFsdWUiOjF9L'\\\n",
    "                       'Hsia2V5IjoiZiIsInZhbHVlIjoiNzY1MWVkMTE5ZmRmZDhlNWQzMTA0NGYzZjk3N2ZkMDIifSx7Im'\\\n",
    "                       'tleSI6ImNzIiwidmFsdWUiOjF9XQ=='\\\n",
    "                       ,'public_key':'92A09218-4AD3-CC2B-8145-87CD0B851124'\\\n",
    "                       ,'site':'https://captcha.kik.com'\\\n",
    "                       ,'data[kik_id]':captcha_id}\n",
    "            \n",
    "next3 =  takeResponseAttr('var S7e', res2.text)\\\n",
    "        +takeResponseAttr('var Z8e', res2.text)\\\n",
    "        +'&'+formattedStrLambda(takeConvertedDict(token_dict))\n",
    "        \n",
    "res3 = ses.get(next3)\n",
    "#токен получен успешно."
   ]
  },
  {
   "cell_type": "code",
   "execution_count": 7,
   "metadata": {},
   "outputs": [
    {
     "name": "stderr",
     "output_type": "stream",
     "text": [
      "DEBUG:urllib3.connectionpool:https://funcaptcha.com:443 \"GET /fc/gc/?token=6805a37e1f1aade09.46787726&r=eu-west-1&metabgclr=transparent&metatimeclr=%237a7d8e&meta=6&guitextcolor=%2326beff&metaiconclr=transparent&pk=92A09218-4AD3-CC2B-8145-87CD0B851124&injs=https://cdn.funcaptcha.com/fc/assets/graphics/kik/scripts/kik_help_8.js&at=40&ps=3-CAISeFB-ktoCL82eTHfb1e21_IaYfoSgigifgkPlgml_HsDaWUeprIeOpcT0c1mEY6WJvGRUiZ9ufLsRosdV3L3NNvLPXjx81yknkc43M0MA1LTL4rVLQtUt5cxak2bwqiyjfx774cz3TFNWJx9umPOTeEsQ4i1R6ffEWBoQRnJLIBkuLz4jNRrsmHU53iIfXh2cl7DcCHEUy_Ay4xOXurBcNWMNpO-Pp7SG5zPEryoQq2OV1HzvPduxpEZXP0pYcA&ht=1&cdn_url=https://cdn.funcaptcha.com/fc&surl=https://funcaptcha.com&challenge_url=/fc/api/bootstrap/&challenge_url_cdn=https://cdn.funcaptcha.com/fc/js/ba1e486f2d32eee8fdf97ee89ec06b14/standard/fc_bootstrap.js&noscript=Disable HTTP/1.1\" 200 None\n"
     ]
    }
   ],
   "source": [
    "auth_json = takeConvertedDict(takeResponseDict(res3.text))\n",
    "auth_json['ps'] = captcha_id\n",
    "\n",
    "next4 = 'https://funcaptcha.com/fc/gc/?'\\\n",
    "        +formattedStrLambda(takeConvertedDict(auth_json))\n",
    "\n",
    "res4 = ses.get(next4, data = takeConvertedDict(auth_json))"
   ]
  },
  {
   "cell_type": "code",
   "execution_count": 8,
   "metadata": {},
   "outputs": [
    {
     "name": "stderr",
     "output_type": "stream",
     "text": [
      "DEBUG:urllib3.connectionpool:https://funcaptcha.com:443 \"POST /fc/a/ HTTP/1.1\" 200 None\n"
     ]
    }
   ],
   "source": [
    "ses.headers.update({'referer': next4})\n",
    "\n",
    "form_data = {'sid': auth_json.get('r')\n",
    "             ,'session_token':auth_json.get('token')\n",
    "             ,'render_type':'canvas'\n",
    "             ,'category':'Site+URL'\n",
    "             ,'action':captcha_link+captcha_id\n",
    "             ,'analytics_tier':auth_json.get('at')\n",
    "            }\n",
    "\n",
    "next6 = 'https://funcaptcha.com/fc/a/'\n",
    "res6 = ses.post(next6, data = takeConvertedDict(form_data))"
   ]
  },
  {
   "cell_type": "code",
   "execution_count": 9,
   "metadata": {},
   "outputs": [
    {
     "name": "stdout",
     "output_type": "stream",
     "text": [
      "{\"logged\":true}\n"
     ]
    }
   ],
   "source": [
    "print(res6.text)"
   ]
  },
  {
   "cell_type": "code",
   "execution_count": 10,
   "metadata": {},
   "outputs": [],
   "source": [
    "request = {\n",
    "          \"method\": \"POST\",\n",
    "          \"url\": \"https://funcaptcha.com/fc/ekey/\",\n",
    "          \"httpVersion\": \"http/2.0\",\n",
    "          \"headers\": [\n",
    "            {\n",
    "              \"name\": \"cookie\",\n",
    "              \"value\": \"nlbi_384110=VgNpCsQULDA9HqBzqbeGIAAAAADGtEX4xjGAzCO7ogSWSUm8; visid_incap_384110=jO8w1dckR9i287fkcE4+jU1TKVoAAAAAQUIPAAAAAADmW2MRJizAZ74T2j/ZwaXZ; incap_ses_377_384110=+ruGHKSe30BQf5JThV87BaEhMVoAAAAASJPh4ZnREKFRZH/5uSi2zA==; _ga=GA1.2.1484574070.1512659665; timestamp=151359700521458\"\n",
    "            },\n",
    "            {\n",
    "              \"name\": \"origin\",\n",
    "              \"value\": \"https://funcaptcha.com\"\n",
    "            },\n",
    "            {\n",
    "              \"name\": \"accept-encoding\",\n",
    "              \"value\": \"gzip, deflate, br\"\n",
    "            },\n",
    "            {\n",
    "              \"name\": \"accept-language\",\n",
    "              \"value\": \"ru-RU,ru;q=0.9,en-US;q=0.8,en;q=0.7\"\n",
    "            },\n",
    "            {\n",
    "              \"name\": \"user-agent\",\n",
    "              \"value\": \"Mozilla/5.0 (Windows NT 10.0; Win64; x64) AppleWebKit/537.36 (KHTML, like Gecko) Chrome/62.0.3202.94 Safari/537.36\"\n",
    "            },\n",
    "            {\n",
    "              \"name\": \"x-requested-with\",\n",
    "              \"value\": \"XMLHttpRequest\"\n",
    "            },\n",
    "            {\n",
    "              \"name\": \"content-length\",\n",
    "              \"value\": \"92\"\n",
    "            },\n",
    "\n",
    "            {\n",
    "              \"name\": \"x-newrelic-timestamp\",\n",
    "              \"value\": \"151359700521458\"\n",
    "            },\n",
    "            {\n",
    "              \"name\": \"x-requested-id\",\n",
    "              \"value\": \"zAGeLFGqN1pgGeCfPWwA/RuPhJ/MzBC/\"\n",
    "            },\n",
    "            {\n",
    "              \"name\": \"content-type\",\n",
    "              \"value\": \"application/x-www-form-urlencoded; charset=UTF-8\"\n",
    "            },\n",
    "            {\n",
    "              \"name\": \"accept\",\n",
    "              \"value\": \"*/*\"\n",
    "            },\n",
    "            {\n",
    "              \"name\": \"cache-control\",\n",
    "              \"value\": \"no-cache\"\n",
    "            },\n",
    "            {\n",
    "              \"name\": \"referer\",\n",
    "              \"value\": \"https://funcaptcha.com/fc/gc/?token=1785a37aa42237c23.93341525&r=eu-west-1&metabgclr=transparent&metatimeclr=%237a7d8e&meta=6&guitextcolor=%2326beff&metaiconclr=transparent&pk=92A09218-4AD3-CC2B-8145-87CD0B851124&injs=https://cdn.funcaptcha.com/fc/assets/graphics/kik/scripts/kik_help_8.js&at=40&ps=id&ht=1&cdn_url=https://cdn.funcaptcha.com/fc&surl=https://funcaptcha.com&ps=3-CAISeFB-ktoCL82eTHfb1e21_IaYfoSgigifgkPlgml_HsDaWUeprIeOpcT0c1mEY6WJvGRUiZ9ufLsRosdV3L3NNvLPXjx81yknkc43M0MA1LTL4rVLQtUt5cxak2bwqiyjfx774cz3TFNWJx9umPOTeEsQ4i1R6ffEWBoQRnJLIBkuLz4jNRrsmHU53iIfXh2cl7DcCHEUy_Ay4xOXurBcNWMNpO-Pp7SG5zPEryoQq2OV1HzvPduxpEZXP0pYcA\"\n",
    "            }\n",
    "          ],\n",
    "          \"queryString\": [],\n",
    "          \"cookies\": [\n",
    "            {\n",
    "              \"name\": \"nlbi_384110\",\n",
    "              \"value\": \"VgNpCsQULDA9HqBzqbeGIAAAAADGtEX4xjGAzCO7ogSWSUm8\",\n",
    "              \"expires\": 'null',\n",
    "              \"httpOnly\": 'false',\n",
    "              \"secure\": 'false'\n",
    "            },\n",
    "            {\n",
    "              \"name\": \"visid_incap_384110\",\n",
    "              \"value\": \"jO8w1dckR9i287fkcE4+jU1TKVoAAAAAQUIPAAAAAADmW2MRJizAZ74T2j/ZwaXZ\",\n",
    "              \"expires\": 'null',\n",
    "              \"httpOnly\": 'false',\n",
    "              \"secure\": 'false'\n",
    "            },\n",
    "            {\n",
    "              \"name\": \"incap_ses_377_384110\",\n",
    "              \"value\": \"+ruGHKSe30BQf5JThV87BaEhMVoAAAAASJPh4ZnREKFRZH/5uSi2zA==\",\n",
    "              \"expires\": 'null',\n",
    "              \"httpOnly\": 'false',\n",
    "              \"secure\": 'false'\n",
    "            },\n",
    "            {\n",
    "              \"name\": \"_ga\",\n",
    "              \"value\": \"GA1.2.1484574070.1512659665\",\n",
    "              \"expires\": 'null',\n",
    "              \"httpOnly\": 'false',\n",
    "              \"secure\": 'false'\n",
    "            },\n",
    "            {\n",
    "              \"name\": \"timestamp\",\n",
    "              \"value\": \"151359700521458\",\n",
    "              \"expires\": 'null',\n",
    "              \"httpOnly\": 'false',\n",
    "              \"secure\": 'false'\n",
    "            }\n",
    "          ],\n",
    "          \"headersSize\": -1,\n",
    "          \"bodySize\": 92,\n",
    "          \"postData\": {\n",
    "            \"mimeType\": \"application/x-www-form-urlencoded; charset=UTF-8\",\n",
    "            \"text\": \"sid=eu-west-1&session_token=1785a37aa42237c23.93341525&game_token=8885a37aa42cf8871.64074950\",\n",
    "            \"params\": [\n",
    "              {\n",
    "                \"name\": \"sid\",\n",
    "                \"value\": \"eu-west-1\"\n",
    "              },\n",
    "              {\n",
    "                \"name\": \"session_token\",\n",
    "                \"value\": \"1785a37aa42237c23.93341525\"\n",
    "              },\n",
    "              {\n",
    "                \"name\": \"game_token\",\n",
    "                \"value\": \"8885a37aa42cf8871.64074950\"\n",
    "              }\n",
    "            ]\n",
    "          }\n",
    "        }\n",
    "h = {i['name']:i['value'] for i in request['headers']} "
   ]
  },
  {
   "cell_type": "code",
   "execution_count": 11,
   "metadata": {},
   "outputs": [
    {
     "name": "stderr",
     "output_type": "stream",
     "text": [
      "DEBUG:urllib3.connectionpool:https://funcaptcha.com:443 \"POST /fc/ekey/ HTTP/1.1\" 200 None\n"
     ]
    },
    {
     "name": "stdout",
     "output_type": "stream",
     "text": [
      "{\"error\":\"DENIED ACCESS\"}\n"
     ]
    }
   ],
   "source": [
    "game_data = {'sid': auth_json.get('r')\n",
    "            ,'session_token':auth_json.get('token')\n",
    "            ,'game_token':'8885a37aa42cf8871.64074950'}\n",
    "\n",
    "#game_token\n",
    "\n",
    "next7 = 'https://funcaptcha.com/fc/ekey/'\n",
    "res7 = ses.post(next7, headers=h, data=takeConvertedDict(game_data))\n",
    "print(res7.text)"
   ]
  }
 ],
 "metadata": {
  "kernelspec": {
   "display_name": "Python 3",
   "language": "python",
   "name": "python3"
  },
  "language_info": {
   "codemirror_mode": {
    "name": "ipython",
    "version": 3
   },
   "file_extension": ".py",
   "mimetype": "text/x-python",
   "name": "python",
   "nbconvert_exporter": "python",
   "pygments_lexer": "ipython3",
   "version": "3.6.3"
  }
 },
 "nbformat": 4,
 "nbformat_minor": 2
}
